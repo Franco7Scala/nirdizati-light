{
 "cells": [
  {
   "cell_type": "markdown",
   "id": "cb68b0bb-0554-4e9b-95a2-8530d1852842",
   "metadata": {},
   "source": [
    "# TEST DATASET AND DATALOADER CLASSES FOR TABULAR DATA"
   ]
  },
  {
   "cell_type": "code",
   "execution_count": 49,
   "id": "b4c04f47-201a-49d5-97b0-d7bafc28f96b",
   "metadata": {},
   "outputs": [],
   "source": [
    "import torch\n",
    "import torch.functional as F"
   ]
  },
  {
   "cell_type": "code",
   "execution_count": 50,
   "id": "bca37efe-9ba3-4134-8614-3727e0efaa62",
   "metadata": {},
   "outputs": [],
   "source": [
    "from data_loader.data_loaders import TabularDataset, TabularDataLoader"
   ]
  },
  {
   "cell_type": "code",
   "execution_count": 6,
   "id": "eb7bca2d-8ea3-4835-b977-a51baa54c1ea",
   "metadata": {},
   "outputs": [],
   "source": [
    "dataset = TabularDataset(dataset_path='bpic2011_f3_full', dataset_file='bpic2011_f3', target_col='Classification', \n",
    "                         header_in_data=True, training=True, scale = True)"
   ]
  },
  {
   "cell_type": "code",
   "execution_count": 51,
   "id": "4b2d0c9a-0dfb-47b2-b1cc-6dec7ac56d89",
   "metadata": {},
   "outputs": [],
   "source": [
    "dataloader = TabularDataLoader( dataset_path='bpic2011_f3_full', dataset_file='bpic2011_f3', target_col='Classification', \n",
    "                         header_in_data=True, training=True, scale = True, batch_size=4, shuffle=True, validation_split=0.2, num_workers=0)"
   ]
  },
  {
   "cell_type": "code",
   "execution_count": 52,
   "id": "5663d9ed-5ad8-44c1-aa39-b02eab245f46",
   "metadata": {},
   "outputs": [
    {
     "name": "stdout",
     "output_type": "stream",
     "text": [
      "Feature batch shape: torch.Size([4, 277])\n",
      "Labels batch shape: torch.Size([4, 1])\n"
     ]
    }
   ],
   "source": [
    "train_features, train_labels = next(iter(dataloader))\n",
    "print(f\"Feature batch shape: {train_features.size()}\")\n",
    "print(f\"Labels batch shape: {train_labels.size()}\")"
   ]
  },
  {
   "cell_type": "code",
   "execution_count": 53,
   "id": "a58459da-e7d8-4545-8c83-db759d74fb03",
   "metadata": {},
   "outputs": [],
   "source": [
    "img = train_features[0].squeeze()\n",
    "label = train_labels[0]"
   ]
  },
  {
   "cell_type": "code",
   "execution_count": 54,
   "id": "f4f6dbd9-3d70-459b-aefd-d06561c25ce0",
   "metadata": {},
   "outputs": [
    {
     "name": "stdout",
     "output_type": "stream",
     "text": [
      "tensor([ 3.0027e-01, -3.0542e-01,  2.8517e+00, -9.9881e-02,  1.5587e+00,\n",
      "        -1.8901e-01, -2.4777e-02, -1.6515e-02, -8.2569e-03, -2.7907e-01,\n",
      "        -2.1850e-02, -2.9891e-01, -3.0908e-02, -2.7394e-02, -7.6343e-02,\n",
      "        -9.2325e-02,  7.5255e-01, -1.5313e-01, -1.3745e-01, -1.7591e-01,\n",
      "        -1.3514e+00, -3.1065e-02, -2.3891e-01, -8.6642e-02, -8.6122e-02,\n",
      "        -1.5076e-01, -1.0620e-01, -2.2213e-01, -2.2040e-01, -6.5150e-02,\n",
      "        -1.2481e-01, -1.0501e-01, -5.4850e-02, -1.2027e+00, -1.1395e+00,\n",
      "        -1.0678e+00, -1.4226e-01, -1.0924e-01, -1.5217e-01, -4.0482e-02,\n",
      "        -9.8868e-02, -1.5198e-01, -1.0183e-01, -2.5686e-01, -7.5890e-02,\n",
      "        -1.2339e-01, -1.0573e+00, -1.0128e+00, -2.0628e-01, -1.8570e-01,\n",
      "        -7.4515e-02, -7.4056e-02, -1.0040e-01, -9.4192e-02, -1.2407e-01,\n",
      "        -1.4620e-01, -8.8029e-02, -6.1863e-01, -8.7319e-02, -2.4126e-02,\n",
      "        -9.4676e-02, -1.9949e-01, -6.4848e-01, -1.0130e-01, -6.3934e-01,\n",
      "        -7.4976e-02, -8.0430e-02, -7.8023e-02, -5.2890e-01, -8.8109e-02,\n",
      "        -4.6757e-02, -5.8483e-02, -2.2856e-01, -2.3359e-02, -5.3486e-01,\n",
      "        -1.6219e-01, -8.6523e-02, -3.6013e-02, -3.5843e-01, -4.2942e-02,\n",
      "        -3.3044e-02, -1.1677e-02, -4.4507e-02, -4.9600e-02, -1.2093e-01,\n",
      "        -9.3042e-02, -2.4132e-01, -2.4365e-01, -9.3823e-02, -9.2057e-02,\n",
      "        -1.4722e-01, -1.6515e-02, -5.6695e-02, -6.3005e-02, -1.5424e-01,\n",
      "        -9.8374e-01, -8.8891e-02, -6.4238e-01, -6.2870e-01, -6.2527e-01,\n",
      "        -7.1688e-02, -4.0482e-02, -6.3366e-01, -4.8200e-02, -9.8163e-02,\n",
      "        -5.4066e-01, -3.8756e-02, -5.7297e-02, -5.3825e-01, -5.0457e-01,\n",
      "        -4.2524e-01, -3.8971e-01, -1.7749e-01, -1.0699e-01, -2.9783e-02,\n",
      "        -1.8465e-02, -3.6865e-01, -9.8135e-02, -7.3584e-02, -7.0481e-02,\n",
      "        -3.1994e-02, -7.9098e-02, -4.3669e-02, -4.2942e-02, -9.1578e-02,\n",
      "        -8.7978e-02, -9.6345e-02, -7.5435e-02, -1.1677e-02, -3.0479e-01,\n",
      "        -7.8570e-02, -6.5676e-02, -6.6098e-02, -5.8483e-02, -4.3169e-01,\n",
      "        -6.1347e-02, -3.9628e-02, -5.8459e-02, -2.1850e-02, -2.5717e-01,\n",
      "        -2.8613e-02, -1.0233e-01, -9.4192e-02, -4.6019e-02, -3.8756e-02,\n",
      "        -1.0567e-01, -2.3359e-02, -3.6013e-02, -6.8256e-02,  1.5226e+01,\n",
      "        -1.1825e-01, -6.8166e-02, -4.8671e-02, -7.0650e-02,  3.3744e+00,\n",
      "        -1.9327e-01, -1.1725e-01,  1.5907e+00, -7.9692e-02,  5.3104e-01,\n",
      "        -2.1850e-02,  1.6995e+00,  1.0404e+00, -1.8218e-01, -6.7601e-02,\n",
      "        -1.4943e-01, -1.1392e-01, -1.0915e-01, -4.2676e-02, -3.9775e-02,\n",
      "        -5.0064e-02, -2.0527e-01, -4.0716e-01, -3.9775e-02, -6.5472e-01,\n",
      "        -8.8826e-01, -9.0484e-02, -3.4947e-02, -1.2201e-01, -9.5743e-01,\n",
      "        -5.8578e-02, -1.2866e-01, -4.7429e-02, -4.5303e-02, -4.2073e-02,\n",
      "        -5.5446e-02, -8.2569e-03, -6.3515e-02, -1.9117e-01, -1.2894e+00,\n",
      "        -1.6933e-01, -3.5458e-01, -7.2752e-02, -8.9927e-02, -2.6840e-01,\n",
      "         2.4926e+00, -2.9783e-02, -2.4013e-01, -2.8724e-01, -7.5114e-02,\n",
      "        -2.7139e-02,  1.1255e+00, -3.8615e-02, -5.3255e-02, -1.7178e-01,\n",
      "        -1.5080e-01, -2.4406e-01, -1.4302e-02, -1.1343e-01, -6.6622e-02,\n",
      "        -2.4260e-01, -1.3241e-02, -6.9348e-02,  1.4742e+00, -1.9111e-01,\n",
      "        -1.0895e-01, -4.5544e-02, -9.5938e-02, -1.9378e-01,  5.7762e-01,\n",
      "        -1.0910e-01, -1.1513e+00,  1.8133e+00, -4.6309e-02, -2.2878e-02,\n",
      "        -1.7377e-01, -2.7907e-01, -2.0892e-02, -4.8992e-02,  2.2621e+00,\n",
      "        -3.2302e-01, -7.2752e-02,  5.5828e-01, -1.1189e+00, -1.6933e-01,\n",
      "        -3.5458e-01, -7.4976e-02, -3.9775e-02, -3.1145e-02, -2.9783e-02,\n",
      "        -9.0484e-02, -4.5303e-02, -4.7429e-02, -3.9775e-02, -2.3602e-02,\n",
      "        -1.1158e+00, -1.7178e-01, -5.9467e-02, -1.7082e-01, -7.2752e-02,\n",
      "        -2.0912e-01,  8.7563e-01, -8.9927e-02, -3.5458e-01, -3.2125e-01,\n",
      "         2.4599e+00, -6.3515e-02, -1.5080e-01, -5.1132e-02, -4.6174e-02,\n",
      "         0.0000e+00,  1.1311e-01, -8.7016e-02,  0.0000e+00,  1.1076e+00,\n",
      "         7.2247e-01, -1.1179e+00, -9.1977e-01, -5.4109e-02,  0.0000e+00,\n",
      "         2.2015e+00,  2.1248e+00,  0.0000e+00,  1.2375e+00,  1.0203e+00,\n",
      "        -8.2568e-01,  1.9572e+00])\n"
     ]
    }
   ],
   "source": [
    "print(img)"
   ]
  },
  {
   "cell_type": "code",
   "execution_count": 63,
   "id": "1e890d09-64b2-4dc2-932d-bee7d732a611",
   "metadata": {},
   "outputs": [
    {
     "name": "stdout",
     "output_type": "stream",
     "text": [
      "tensor([0.])\n"
     ]
    }
   ],
   "source": [
    "print(label)"
   ]
  },
  {
   "cell_type": "markdown",
   "id": "2400c8b0-343b-42c0-94d8-e5fcd586c478",
   "metadata": {},
   "source": [
    "## Test __read_files method"
   ]
  },
  {
   "cell_type": "code",
   "execution_count": 10,
   "id": "359e3a5e-45d9-4afe-81f5-cc7cf8143749",
   "metadata": {},
   "outputs": [],
   "source": [
    "import pandas as pd\n",
    "\n",
    "dataset_path='bpic2011_f3_full'\n",
    "dataset_file='bpic2011_f3'"
   ]
  },
  {
   "cell_type": "code",
   "execution_count": 11,
   "id": "830cc9b4-4cfd-4fc6-9d36-5a17c744ddfc",
   "metadata": {},
   "outputs": [],
   "source": [
    "file_name_train = 'data/'+ dataset_path + '/' + dataset_file + '_train.csv.zip'\n",
    "file_name_test = 'data/'+ dataset_path + '/' + dataset_file + '_test.csv.zip'"
   ]
  },
  {
   "cell_type": "code",
   "execution_count": 12,
   "id": "49dee9ca-6e61-45a5-8333-6c63233b1c64",
   "metadata": {},
   "outputs": [],
   "source": [
    "target_col='Classification'\n",
    "train_x = pd.read_csv(file_name_train, sep=',', header=0)\n",
    "train_y = train_x[target_col].values\n",
    "train_x.drop(target_col, axis=1, inplace= True)\n",
    "train_x = train_x.values"
   ]
  },
  {
   "cell_type": "markdown",
   "id": "2a5deeb0-bca7-4d78-baee-e11a2dd6ba97",
   "metadata": {},
   "source": [
    "# MODEL and FORWARD"
   ]
  },
  {
   "cell_type": "code",
   "execution_count": 56,
   "id": "438d9739-3b36-4985-9873-a817b07b2c4d",
   "metadata": {},
   "outputs": [],
   "source": [
    "from model.model import MoE"
   ]
  },
  {
   "cell_type": "code",
   "execution_count": 57,
   "id": "7a8e3517-7cc4-46fb-bba5-c34f86723720",
   "metadata": {},
   "outputs": [],
   "source": [
    "model = MoE(input_size=277, num_experts=3, topk=0)"
   ]
  },
  {
   "cell_type": "code",
   "execution_count": 58,
   "id": "37296ca6-fa96-470e-a277-77465978b242",
   "metadata": {},
   "outputs": [
    {
     "data": {
      "text/plain": [
       "tensor([[0.4777, 0.2117, 0.3106],\n",
       "        [0.1490, 0.3927, 0.4583],\n",
       "        [0.1392, 0.4926, 0.3682],\n",
       "        [0.8512, 0.0288, 0.1200]], grad_fn=<SoftmaxBackward0>)"
      ]
     },
     "execution_count": 58,
     "metadata": {},
     "output_type": "execute_result"
    }
   ],
   "source": [
    "model.forward(train_features).gate_probs"
   ]
  },
  {
   "cell_type": "code",
   "execution_count": 59,
   "id": "03006ea8-7e1a-4699-9e6f-c2be092c0b07",
   "metadata": {},
   "outputs": [
    {
     "data": {
      "text/plain": [
       "tensor([[[-1.3740]],\n",
       "\n",
       "        [[ 0.0567]],\n",
       "\n",
       "        [[-2.0114]],\n",
       "\n",
       "        [[-3.5443]]], grad_fn=<BmmBackward0>)"
      ]
     },
     "execution_count": 59,
     "metadata": {},
     "output_type": "execute_result"
    }
   ],
   "source": [
    "torch.bmm(model.forward(train_features).gate_probs.unsqueeze(1), model.forward(train_features).experts_outputs)"
   ]
  },
  {
   "cell_type": "code",
   "execution_count": 38,
   "id": "a36939cc-e1cd-4cb2-a5ff-0caa37011322",
   "metadata": {},
   "outputs": [
    {
     "data": {
      "text/plain": [
       "torch.Size([32, 3, 1])"
      ]
     },
     "execution_count": 38,
     "metadata": {},
     "output_type": "execute_result"
    }
   ],
   "source": [
    "model.forward(train_features).experts_outputs.shape"
   ]
  },
  {
   "cell_type": "code",
   "execution_count": 39,
   "id": "552d9e77-d747-49e3-a2a2-ea8c5e49bf9a",
   "metadata": {},
   "outputs": [
    {
     "data": {
      "text/plain": [
       "torch.Size([32, 3])"
      ]
     },
     "execution_count": 39,
     "metadata": {},
     "output_type": "execute_result"
    }
   ],
   "source": [
    "model.forward(train_features).gate_probs.shape"
   ]
  },
  {
   "cell_type": "code",
   "execution_count": 41,
   "id": "da5605b9-9e02-4947-b88a-c794ecfc1bf3",
   "metadata": {},
   "outputs": [],
   "source": [
    "mytensor = torch.tensor([[2,1], [3,2], [1, 2]])"
   ]
  },
  {
   "cell_type": "code",
   "execution_count": 48,
   "id": "898bf738-c5df-4229-96f2-2badd5e001dc",
   "metadata": {},
   "outputs": [
    {
     "data": {
      "text/plain": [
       "torch.Size([3, 1, 2])"
      ]
     },
     "execution_count": 48,
     "metadata": {},
     "output_type": "execute_result"
    }
   ],
   "source": [
    "mytensor.unsqueeze(1).shape\n"
   ]
  },
  {
   "cell_type": "code",
   "execution_count": 60,
   "id": "bcbe1b33-c52c-4cfe-8501-cbf46e05a428",
   "metadata": {},
   "outputs": [],
   "source": [
    "mytarget= torch.tensor([[1], [-1], [1]])"
   ]
  },
  {
   "cell_type": "code",
   "execution_count": 61,
   "id": "aa7f11bb-ad6b-4014-a141-29ac4ddeb772",
   "metadata": {},
   "outputs": [
    {
     "data": {
      "text/plain": [
       "torch.Size([3, 1])"
      ]
     },
     "execution_count": 61,
     "metadata": {},
     "output_type": "execute_result"
    }
   ],
   "source": [
    "mytarget.shape"
   ]
  },
  {
   "cell_type": "code",
   "execution_count": 62,
   "id": "7c308141-2eb4-4dfb-969c-92bf311f661d",
   "metadata": {},
   "outputs": [
    {
     "data": {
      "text/plain": [
       "tensor([[ 2,  1],\n",
       "        [-3, -2],\n",
       "        [ 1,  2]])"
      ]
     },
     "execution_count": 62,
     "metadata": {},
     "output_type": "execute_result"
    }
   ],
   "source": [
    "mytarget * mytensor"
   ]
  },
  {
   "cell_type": "code",
   "execution_count": 67,
   "id": "d467744f-7610-450e-86c3-b8006b56e9d0",
   "metadata": {},
   "outputs": [],
   "source": [
    "true = 2 * train_labels -1"
   ]
  },
  {
   "cell_type": "code",
   "execution_count": 68,
   "id": "89d54bd7-c59f-403b-a736-218be4edc9d0",
   "metadata": {},
   "outputs": [
    {
     "data": {
      "text/plain": [
       "tensor([[-1.],\n",
       "        [-1.],\n",
       "        [-1.],\n",
       "        [ 1.]])"
      ]
     },
     "execution_count": 68,
     "metadata": {},
     "output_type": "execute_result"
    }
   ],
   "source": [
    "true"
   ]
  },
  {
   "cell_type": "code",
   "execution_count": 82,
   "id": "57f492a6-34b3-4e3c-9690-275a1a156d06",
   "metadata": {},
   "outputs": [
    {
     "data": {
      "text/plain": [
       "3"
      ]
     },
     "execution_count": 82,
     "metadata": {},
     "output_type": "execute_result"
    }
   ],
   "source": [
    "model.forward(train_features).experts_outputs.shape[1]"
   ]
  },
  {
   "cell_type": "code",
   "execution_count": 79,
   "id": "2da51f7a-1c85-4a7b-9861-144d936a95eb",
   "metadata": {},
   "outputs": [
    {
     "data": {
      "text/plain": [
       "tensor([[[0.4665],\n",
       "         [0.8806],\n",
       "         [0.9065]],\n",
       "\n",
       "        [[0.7805],\n",
       "         [0.8393],\n",
       "         [0.1301]],\n",
       "\n",
       "        [[0.9939],\n",
       "         [0.0666],\n",
       "         [0.4295]],\n",
       "\n",
       "        [[0.0177],\n",
       "         [0.4698],\n",
       "         [0.1122]]], grad_fn=<SigmoidBackward0>)"
      ]
     },
     "execution_count": 79,
     "metadata": {},
     "output_type": "execute_result"
    }
   ],
   "source": [
    "torch.sigmoid(model.forward(train_features).experts_outputs * true.unsqueeze(1))"
   ]
  },
  {
   "cell_type": "code",
   "execution_count": 80,
   "id": "7de8480f-ac95-4f62-9b6e-88319bc2ab69",
   "metadata": {},
   "outputs": [
    {
     "data": {
      "text/plain": [
       "tensor([[[0.7012]],\n",
       "\n",
       "        [[0.4351]],\n",
       "\n",
       "        [[0.5098]],\n",
       "\n",
       "        [[0.0221]]], grad_fn=<BmmBackward0>)"
      ]
     },
     "execution_count": 80,
     "metadata": {},
     "output_type": "execute_result"
    }
   ],
   "source": [
    "torch.bmm(model.forward(train_features).gate_probs.unsqueeze(1), torch.sigmoid(model.forward(train_features).experts_outputs * true.unsqueeze(1)))"
   ]
  },
  {
   "cell_type": "code",
   "execution_count": null,
   "id": "d8ec1621-6da3-4998-a3ae-13848f157710",
   "metadata": {},
   "outputs": [],
   "source": []
  }
 ],
 "metadata": {
  "kernelspec": {
   "display_name": "Python 3 (ipykernel)",
   "language": "python",
   "name": "python3"
  },
  "language_info": {
   "codemirror_mode": {
    "name": "ipython",
    "version": 3
   },
   "file_extension": ".py",
   "mimetype": "text/x-python",
   "name": "python",
   "nbconvert_exporter": "python",
   "pygments_lexer": "ipython3",
   "version": "3.12.3"
  }
 },
 "nbformat": 4,
 "nbformat_minor": 5
}
