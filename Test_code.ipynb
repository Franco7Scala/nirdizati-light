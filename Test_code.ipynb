{
 "cells": [
  {
   "cell_type": "markdown",
   "id": "cb68b0bb-0554-4e9b-95a2-8530d1852842",
   "metadata": {},
   "source": [
    "# TEST DATASET AND DATALOADER CLASSES FOR TABULAR DATA"
   ]
  },
  {
   "cell_type": "code",
   "execution_count": 2,
   "id": "b4c04f47-201a-49d5-97b0-d7bafc28f96b",
   "metadata": {},
   "outputs": [],
   "source": [
    "import torch\n",
    "import torch.functional as F"
   ]
  },
  {
   "cell_type": "code",
   "execution_count": 3,
   "id": "bca37efe-9ba3-4134-8614-3727e0efaa62",
   "metadata": {},
   "outputs": [],
   "source": [
    "from data_loader.data_loaders import TabularDataset, TabularDataLoader"
   ]
  },
  {
   "cell_type": "code",
   "execution_count": 5,
   "id": "eb7bca2d-8ea3-4835-b977-a51baa54c1ea",
   "metadata": {},
   "outputs": [],
   "source": [
    "dataset = TabularDataset(dataset_path='bpic2011_f3_full', dataset_file='bpic2011_f3', target_col='Classification', \n",
    "                         header_in_data=True, training=True, scale = True)"
   ]
  },
  {
   "cell_type": "code",
   "execution_count": 6,
   "id": "4b2d0c9a-0dfb-47b2-b1cc-6dec7ac56d89",
   "metadata": {},
   "outputs": [],
   "source": [
    "dataloader = TabularDataLoader( dataset_path='bpic2011_f3_full', dataset_file='bpic2011_f3', target_col='Classification', \n",
    "                         header_in_data=True, training=True, scale = True, batch_size=4, shuffle=True, validation_split=0.2, num_workers=0)"
   ]
  },
  {
   "cell_type": "code",
   "execution_count": 7,
   "id": "5663d9ed-5ad8-44c1-aa39-b02eab245f46",
   "metadata": {},
   "outputs": [
    {
     "name": "stdout",
     "output_type": "stream",
     "text": [
      "Feature batch shape: torch.Size([4, 277])\n",
      "Labels batch shape: torch.Size([4, 1])\n"
     ]
    }
   ],
   "source": [
    "train_features, train_labels = next(iter(dataloader))\n",
    "print(f\"Feature batch shape: {train_features.size()}\")\n",
    "print(f\"Labels batch shape: {train_labels.size()}\")"
   ]
  },
  {
   "cell_type": "code",
   "execution_count": 8,
   "id": "a58459da-e7d8-4545-8c83-db759d74fb03",
   "metadata": {},
   "outputs": [],
   "source": [
    "img = train_features[0].squeeze()\n",
    "label = train_labels[0]"
   ]
  },
  {
   "cell_type": "code",
   "execution_count": 9,
   "id": "f4f6dbd9-3d70-459b-aefd-d06561c25ce0",
   "metadata": {},
   "outputs": [
    {
     "name": "stdout",
     "output_type": "stream",
     "text": [
      "tensor([-1.2584, -0.4211, -0.0420,  0.5285,  1.3035,  0.1436, -0.1361, -1.1700,\n",
      "         0.3271,  0.7628,  1.3851,  1.3472, -1.2419,  0.9324,  1.0003,  1.6175,\n",
      "        -0.2599,  1.2783,  0.4190, -1.2549, -1.4043, -1.5071, -0.8685, -1.4115,\n",
      "        -0.9120, -0.1028, -0.7566,  1.1672,  1.1520,  0.3604, -1.0346, -0.7196,\n",
      "        -0.9478,  0.3472,  1.2950, -1.4619,  1.0177, -0.4309, -1.4137,  1.2873,\n",
      "        -1.4859,  0.4024,  0.8659, -0.7270, -0.0431, -1.6291, -1.5062, -0.1107,\n",
      "        -1.9019, -0.3872, -0.8851,  1.4809,  0.7728, -1.1056, -1.2949,  1.7075,\n",
      "         0.3535, -1.1702, -0.3560, -0.8405, -1.4493, -0.0126, -0.2374, -0.8642,\n",
      "         1.1975, -1.1660,  1.4255, -1.5072, -0.9328, -0.2998,  0.8325,  0.1521,\n",
      "        -1.5369,  0.4975, -1.5637,  0.2126,  0.7961, -0.1812, -1.5476, -1.1539,\n",
      "         0.8365,  0.3717,  1.2556,  0.4311, -0.0259,  0.8059, -1.1725,  0.1031,\n",
      "         0.8886, -0.1550, -0.2717, -0.4113,  0.0226, -0.8306, -0.8160, -1.0826,\n",
      "         0.0655, -0.1395,  0.3520, -1.3615,  0.2135,  0.0109, -1.6499, -0.7612,\n",
      "         0.3914,  1.1474,  0.1354,  0.5813, -0.6637,  0.3628,  0.7923, -1.4182,\n",
      "        -1.1834,  0.5223, -0.7922,  1.4276, -0.6190, -0.9926, -1.0080,  0.8577,\n",
      "         0.0762, -0.7702,  0.8487, -0.7519, -0.1757, -0.8917, -1.5793,  1.6628,\n",
      "         1.1491,  0.4924,  0.4670,  1.6806,  0.3113, -0.3799,  1.4138,  1.2301,\n",
      "        -1.8145, -1.0881,  1.4292,  0.6517,  0.1610, -1.5023,  0.6794, -0.4330,\n",
      "        -1.4458,  1.1555, -0.1053,  0.3907, -0.6380, -0.4870, -0.6235,  0.6079,\n",
      "         1.6269, -1.5434, -0.2326,  0.7898,  1.1325, -0.7715,  1.7429,  1.0936,\n",
      "        -1.2046, -0.8163, -1.5127,  0.5721, -1.4977, -1.3299, -0.3790,  1.0294,\n",
      "         0.7397,  0.8943, -1.1330, -1.7533,  1.3144,  1.3178, -0.2814,  1.6423,\n",
      "         0.5610, -0.2949, -0.7298, -0.0868,  0.6280, -0.6046, -0.3835,  1.8174,\n",
      "         0.6537,  1.7233, -1.5110, -0.3759, -1.5515, -1.5372, -0.4181, -1.4773,\n",
      "        -0.9872, -0.0277, -0.4385, -0.2387,  0.1701,  1.3238, -1.0717, -0.3280,\n",
      "        -1.7079,  1.0396,  0.8621, -0.6509,  0.6863, -0.5162, -0.9105,  0.0928,\n",
      "        -0.5034, -1.2003,  0.4320, -1.6596, -1.5013, -0.1328,  0.2403, -1.3053,\n",
      "         0.3610,  0.0565,  0.4212, -0.9343,  0.4297,  1.3582,  1.2559, -0.3288,\n",
      "        -0.0137,  0.1115, -0.3605, -0.4749, -0.5842, -0.1543,  0.2322, -0.5493,\n",
      "        -1.0853,  0.0606,  1.4159,  0.2580,  0.7590,  0.7262,  1.5398,  1.6020,\n",
      "        -0.1828,  0.5439,  0.9092,  1.2517,  0.5486,  0.3681,  1.6852, -1.2640,\n",
      "        -0.9314, -0.3486,  0.7872,  0.8281,  0.1099, -1.4287, -0.1818, -1.3745,\n",
      "         1.2208, -0.4601, -0.5256, -0.3827,  0.1664,  1.7348,  0.6343,  0.3425,\n",
      "        -0.7815,  1.0369,  0.2073,  1.3526, -1.3150, -0.0660, -0.1318,  0.2475,\n",
      "         0.4371, -1.4270, -1.2400, -0.5449,  0.3190])\n"
     ]
    }
   ],
   "source": [
    "print(img)"
   ]
  },
  {
   "cell_type": "code",
   "execution_count": 10,
   "id": "1e890d09-64b2-4dc2-932d-bee7d732a611",
   "metadata": {},
   "outputs": [
    {
     "name": "stdout",
     "output_type": "stream",
     "text": [
      "tensor([0.])\n"
     ]
    }
   ],
   "source": [
    "print(label)"
   ]
  },
  {
   "cell_type": "markdown",
   "id": "2400c8b0-343b-42c0-94d8-e5fcd586c478",
   "metadata": {},
   "source": [
    "## Test __read_files method"
   ]
  },
  {
   "cell_type": "code",
   "execution_count": 11,
   "id": "359e3a5e-45d9-4afe-81f5-cc7cf8143749",
   "metadata": {},
   "outputs": [],
   "source": [
    "import pandas as pd\n",
    "\n",
    "dataset_path='bpic2011_f3_full'\n",
    "dataset_file='bpic2011_f3'"
   ]
  },
  {
   "cell_type": "code",
   "execution_count": 12,
   "id": "830cc9b4-4cfd-4fc6-9d36-5a17c744ddfc",
   "metadata": {},
   "outputs": [],
   "source": [
    "file_name_train = 'data/'+ dataset_path + '/' + dataset_file + '_train.csv.zip'\n",
    "file_name_test = 'data/'+ dataset_path + '/' + dataset_file + '_test.csv.zip'"
   ]
  },
  {
   "cell_type": "code",
   "execution_count": 13,
   "id": "49dee9ca-6e61-45a5-8333-6c63233b1c64",
   "metadata": {},
   "outputs": [],
   "source": [
    "target_col='Classification'\n",
    "train_x = pd.read_csv(file_name_train, sep=',', header=0)\n",
    "train_y = train_x[target_col].values\n",
    "train_x.drop(target_col, axis=1, inplace= True)\n",
    "train_x = train_x.values"
   ]
  },
  {
   "cell_type": "markdown",
   "id": "2a5deeb0-bca7-4d78-baee-e11a2dd6ba97",
   "metadata": {},
   "source": [
    "# MODEL and FORWARD"
   ]
  },
  {
   "cell_type": "code",
   "execution_count": 14,
   "id": "438d9739-3b36-4985-9873-a817b07b2c4d",
   "metadata": {},
   "outputs": [],
   "source": [
    "from model.model import MoE"
   ]
  },
  {
   "cell_type": "code",
   "execution_count": 15,
   "id": "7a8e3517-7cc4-46fb-bba5-c34f86723720",
   "metadata": {},
   "outputs": [],
   "source": [
    "model = MoE(input_size=277, num_experts=3, topk=0)"
   ]
  },
  {
   "cell_type": "code",
   "execution_count": 16,
   "id": "37296ca6-fa96-470e-a277-77465978b242",
   "metadata": {},
   "outputs": [
    {
     "data": {
      "text/plain": [
       "tensor([[0.5354, 0.3675, 0.0971],\n",
       "        [0.2489, 0.3619, 0.3891],\n",
       "        [0.2470, 0.1123, 0.6407],\n",
       "        [0.0882, 0.3730, 0.5388]], grad_fn=<SoftmaxBackward0>)"
      ]
     },
     "execution_count": 16,
     "metadata": {},
     "output_type": "execute_result"
    }
   ],
   "source": [
    "model.forward(train_features).gate_probs"
   ]
  },
  {
   "cell_type": "code",
   "execution_count": 17,
   "id": "03006ea8-7e1a-4699-9e6f-c2be092c0b07",
   "metadata": {},
   "outputs": [
    {
     "data": {
      "text/plain": [
       "tensor([[[ 0.7074]],\n",
       "\n",
       "        [[-1.1435]],\n",
       "\n",
       "        [[ 2.1880]],\n",
       "\n",
       "        [[-0.1888]]], grad_fn=<BmmBackward0>)"
      ]
     },
     "execution_count": 17,
     "metadata": {},
     "output_type": "execute_result"
    }
   ],
   "source": [
    "torch.bmm(model.forward(train_features).gate_probs.unsqueeze(1), model.forward(train_features).experts_outputs)"
   ]
  },
  {
   "cell_type": "code",
   "execution_count": 18,
   "id": "a36939cc-e1cd-4cb2-a5ff-0caa37011322",
   "metadata": {},
   "outputs": [
    {
     "data": {
      "text/plain": [
       "torch.Size([4, 3, 1])"
      ]
     },
     "execution_count": 18,
     "metadata": {},
     "output_type": "execute_result"
    }
   ],
   "source": [
    "model.forward(train_features).experts_outputs.shape"
   ]
  },
  {
   "cell_type": "code",
   "execution_count": 19,
   "id": "552d9e77-d747-49e3-a2a2-ea8c5e49bf9a",
   "metadata": {},
   "outputs": [
    {
     "data": {
      "text/plain": [
       "torch.Size([4, 3])"
      ]
     },
     "execution_count": 19,
     "metadata": {},
     "output_type": "execute_result"
    }
   ],
   "source": [
    "model.forward(train_features).gate_probs.shape"
   ]
  },
  {
   "cell_type": "code",
   "execution_count": 20,
   "id": "da5605b9-9e02-4947-b88a-c794ecfc1bf3",
   "metadata": {},
   "outputs": [],
   "source": [
    "mytensor = torch.tensor([[2,1], [3,2], [1, 2]])"
   ]
  },
  {
   "cell_type": "code",
   "execution_count": 21,
   "id": "898bf738-c5df-4229-96f2-2badd5e001dc",
   "metadata": {},
   "outputs": [
    {
     "data": {
      "text/plain": [
       "torch.Size([3, 1, 2])"
      ]
     },
     "execution_count": 21,
     "metadata": {},
     "output_type": "execute_result"
    }
   ],
   "source": [
    "mytensor.unsqueeze(1).shape\n"
   ]
  },
  {
   "cell_type": "code",
   "execution_count": 22,
   "id": "bcbe1b33-c52c-4cfe-8501-cbf46e05a428",
   "metadata": {},
   "outputs": [],
   "source": [
    "mytarget= torch.tensor([[1], [-1], [1]])"
   ]
  },
  {
   "cell_type": "code",
   "execution_count": 23,
   "id": "aa7f11bb-ad6b-4014-a141-29ac4ddeb772",
   "metadata": {},
   "outputs": [
    {
     "data": {
      "text/plain": [
       "torch.Size([3, 1])"
      ]
     },
     "execution_count": 23,
     "metadata": {},
     "output_type": "execute_result"
    }
   ],
   "source": [
    "mytarget.shape"
   ]
  },
  {
   "cell_type": "code",
   "execution_count": 24,
   "id": "7c308141-2eb4-4dfb-969c-92bf311f661d",
   "metadata": {},
   "outputs": [
    {
     "data": {
      "text/plain": [
       "tensor([[ 2,  1],\n",
       "        [-3, -2],\n",
       "        [ 1,  2]])"
      ]
     },
     "execution_count": 24,
     "metadata": {},
     "output_type": "execute_result"
    }
   ],
   "source": [
    "mytarget * mytensor"
   ]
  },
  {
   "cell_type": "code",
   "execution_count": 25,
   "id": "d467744f-7610-450e-86c3-b8006b56e9d0",
   "metadata": {},
   "outputs": [],
   "source": [
    "true = 2 * train_labels -1"
   ]
  },
  {
   "cell_type": "code",
   "execution_count": 26,
   "id": "89d54bd7-c59f-403b-a736-218be4edc9d0",
   "metadata": {},
   "outputs": [
    {
     "data": {
      "text/plain": [
       "tensor([[-1.],\n",
       "        [ 1.],\n",
       "        [ 1.],\n",
       "        [ 1.]])"
      ]
     },
     "execution_count": 26,
     "metadata": {},
     "output_type": "execute_result"
    }
   ],
   "source": [
    "true"
   ]
  },
  {
   "cell_type": "code",
   "execution_count": 27,
   "id": "57f492a6-34b3-4e3c-9690-275a1a156d06",
   "metadata": {},
   "outputs": [
    {
     "data": {
      "text/plain": [
       "3"
      ]
     },
     "execution_count": 27,
     "metadata": {},
     "output_type": "execute_result"
    }
   ],
   "source": [
    "model.forward(train_features).experts_outputs.shape[1]"
   ]
  },
  {
   "cell_type": "code",
   "execution_count": 28,
   "id": "2da51f7a-1c85-4a7b-9861-144d936a95eb",
   "metadata": {},
   "outputs": [
    {
     "data": {
      "text/plain": [
       "tensor([[[0.4424],\n",
       "         [0.4096],\n",
       "         [0.4922]],\n",
       "\n",
       "        [[0.1755],\n",
       "         [0.3745],\n",
       "         [0.2997]],\n",
       "\n",
       "        [[0.8281],\n",
       "         [0.8622],\n",
       "         [0.9299]],\n",
       "\n",
       "        [[0.1340],\n",
       "         [0.8331],\n",
       "         [0.3600]]], grad_fn=<SigmoidBackward0>)"
      ]
     },
     "execution_count": 28,
     "metadata": {},
     "output_type": "execute_result"
    }
   ],
   "source": [
    "torch.sigmoid(model.forward(train_features).experts_outputs * true.unsqueeze(1))"
   ]
  },
  {
   "cell_type": "code",
   "execution_count": 29,
   "id": "7de8480f-ac95-4f62-9b6e-88319bc2ab69",
   "metadata": {},
   "outputs": [
    {
     "data": {
      "text/plain": [
       "tensor([[[0.5045]],\n",
       "\n",
       "        [[0.1752]],\n",
       "\n",
       "        [[0.8581]],\n",
       "\n",
       "        [[0.4670]]], grad_fn=<BmmBackward0>)"
      ]
     },
     "execution_count": 29,
     "metadata": {},
     "output_type": "execute_result"
    }
   ],
   "source": [
    "torch.bmm(model.forward(train_features).gate_probs.unsqueeze(1), torch.sigmoid(model.forward(train_features).experts_outputs * true.unsqueeze(1)))"
   ]
  }
 ],
 "metadata": {
  "kernelspec": {
   "display_name": "Python 3",
   "language": "python",
   "name": "python3"
  },
  "language_info": {
   "codemirror_mode": {
    "name": "ipython",
    "version": 3
   },
   "file_extension": ".py",
   "mimetype": "text/x-python",
   "name": "python",
   "nbconvert_exporter": "python",
   "pygments_lexer": "ipython3",
   "version": "3.10.4"
  }
 },
 "nbformat": 4,
 "nbformat_minor": 5
}
